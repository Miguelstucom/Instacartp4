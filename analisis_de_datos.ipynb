{
  "nbformat": 4,
  "nbformat_minor": 0,
  "metadata": {
    "colab": {
      "provenance": [],
      "gpuType": "T4"
    },
    "kernelspec": {
      "name": "python3",
      "display_name": "Python 3"
    },
    "language_info": {
      "name": "python"
    },
    "accelerator": "GPU"
  },
  "cells": [
    {
      "cell_type": "code",
      "execution_count": 1,
      "metadata": {
        "colab": {
          "base_uri": "https://localhost:8080/"
        },
        "id": "TlGGyCwBqKpG",
        "outputId": "22de2584-711f-4b1a-af60-d0e2607abc4f"
      },
      "outputs": [
        {
          "output_type": "stream",
          "name": "stdout",
          "text": [
            "Mounted at /content/drive\n"
          ]
        }
      ],
      "source": [
        "import pandas as pd\n",
        "from google.colab import drive\n",
        "drive.mount('/content/drive')"
      ]
    },
    {
      "cell_type": "code",
      "source": [
        "import numpy as np\n",
        "import pandas as pd\n",
        "import matplotlib.pyplot as plt\n",
        "import seaborn as sns\n",
        "from itertools import combinations\n",
        "from collections import Counter\n",
        "import networkx as nx\n",
        "import matplotlib\n",
        "matplotlib.rcParams['figure.dpi'] = 120 #resolution\n",
        "matplotlib.rcParams['figure.figsize'] = (8,6) #figure size\n",
        "import matplotlib.pyplot as plt\n",
        "import seaborn as sns\n",
        "sns.set_style('darkgrid')\n",
        "color = sns.color_palette()"
      ],
      "metadata": {
        "id": "k5tf-qyxXPAq"
      },
      "execution_count": 2,
      "outputs": []
    },
    {
      "cell_type": "code",
      "source": [
        "csv_aisles = pd.read_csv(\"/content/drive/MyDrive/dataset_p4/aisles.csv\")\n",
        "csv_departments = pd.read_csv(\"/content/drive/MyDrive/dataset_p4/departments.csv\")\n",
        "csv_products = pd.read_csv(\"/content/drive/MyDrive/dataset_p4/products.csv\")\n",
        "csv_data = pd.read_csv(\"/content/drive/MyDrive/dataset_p4/merged_data.csv\") # order_products__prior.csv and orders_products_train.csv merge\n",
        "csv_orders = pd.read_csv(\"/content/drive/MyDrive/dataset_p4/orders.csv\")"
      ],
      "metadata": {
        "id": "TdKGrTxPqUr3"
      },
      "execution_count": 3,
      "outputs": []
    },
    {
      "cell_type": "code",
      "source": [
        "print(\"-------------------------------------------------------\")\n",
        "print(\"Shape of Aisles DataFrame:\")\n",
        "print(csv_aisles.shape)\n",
        "\n",
        "print(\"-------------------------------------------------------\")\n",
        "print(\"First 5 Rows of Aisles DataFrame:\")\n",
        "print(csv_aisles.head())\n",
        "\n",
        "print(\"-------------------------------------------------------\")\n",
        "print(\"Aisle DataFrame Info:\")\n",
        "csv_aisles.info()\n",
        "\n",
        "print(\"-------------------------------------------------------\")\n",
        "print(\"Aisle DataFrame Description:\")\n",
        "print(csv_aisles.describe())\n",
        "\n",
        "print(\"-------------------------------------------------------\")\n",
        "print(\"Null Values in Aisles DataFrame:\")\n",
        "print(csv_aisles.isnull().sum())\n"
      ],
      "metadata": {
        "colab": {
          "base_uri": "https://localhost:8080/"
        },
        "id": "xGN21dYHoKm8",
        "outputId": "21c85ae0-9c8a-4734-8654-e376fd64aab4"
      },
      "execution_count": 15,
      "outputs": [
        {
          "output_type": "stream",
          "name": "stdout",
          "text": [
            "-------------------------------------------------------\n",
            "Shape of Aisles DataFrame:\n",
            "(134, 2)\n",
            "-------------------------------------------------------\n",
            "First 5 Rows of Aisles DataFrame:\n",
            "   aisle_id                       aisle\n",
            "0         1       prepared soups salads\n",
            "1         2           specialty cheeses\n",
            "2         3         energy granola bars\n",
            "3         4               instant foods\n",
            "4         5  marinades meat preparation\n",
            "-------------------------------------------------------\n",
            "Aisle DataFrame Info:\n",
            "<class 'pandas.core.frame.DataFrame'>\n",
            "RangeIndex: 134 entries, 0 to 133\n",
            "Data columns (total 2 columns):\n",
            " #   Column    Non-Null Count  Dtype \n",
            "---  ------    --------------  ----- \n",
            " 0   aisle_id  134 non-null    int64 \n",
            " 1   aisle     134 non-null    object\n",
            "dtypes: int64(1), object(1)\n",
            "memory usage: 2.2+ KB\n",
            "-------------------------------------------------------\n",
            "Aisle DataFrame Description:\n",
            "         aisle_id\n",
            "count  134.000000\n",
            "mean    67.500000\n",
            "std     38.826537\n",
            "min      1.000000\n",
            "25%     34.250000\n",
            "50%     67.500000\n",
            "75%    100.750000\n",
            "max    134.000000\n",
            "-------------------------------------------------------\n",
            "Null Values in Aisles DataFrame:\n",
            "aisle_id    0\n",
            "aisle       0\n",
            "dtype: int64\n"
          ]
        }
      ]
    },
    {
      "cell_type": "code",
      "source": [
        "print(\"-------------------------------------------------------\")\n",
        "print(\"Shape of Departments DataFrame:\")\n",
        "print(csv_departments.shape)\n",
        "\n",
        "print(\"-------------------------------------------------------\")\n",
        "print(\"First 5 Rows of Departments DataFrame:\")\n",
        "print(csv_departments.head())\n",
        "\n",
        "print(\"-------------------------------------------------------\")\n",
        "print(\"Department DataFrame Info:\")\n",
        "csv_departments.info()\n",
        "\n",
        "print(\"-------------------------------------------------------\")\n",
        "print(\"Department DataFrame Description:\")\n",
        "print(csv_departments.describe())\n",
        "\n",
        "print(\"-------------------------------------------------------\")\n",
        "print(\"Null Values in Departments DataFrame:\")\n",
        "print(csv_departments.isnull().sum())"
      ],
      "metadata": {
        "colab": {
          "base_uri": "https://localhost:8080/"
        },
        "id": "PpnPu-10ov8d",
        "outputId": "8f923ae5-325d-45ad-88ce-52f3773a1694"
      },
      "execution_count": 14,
      "outputs": [
        {
          "output_type": "stream",
          "name": "stdout",
          "text": [
            "-------------------------------------------------------\n",
            "Shape of Departments DataFrame:\n",
            "(21, 2)\n",
            "-------------------------------------------------------\n",
            "First 5 Rows of Departments DataFrame:\n",
            "   department_id department\n",
            "0              1     frozen\n",
            "1              2      other\n",
            "2              3     bakery\n",
            "3              4    produce\n",
            "4              5    alcohol\n",
            "-------------------------------------------------------\n",
            "Department DataFrame Info:\n",
            "<class 'pandas.core.frame.DataFrame'>\n",
            "RangeIndex: 21 entries, 0 to 20\n",
            "Data columns (total 2 columns):\n",
            " #   Column         Non-Null Count  Dtype \n",
            "---  ------         --------------  ----- \n",
            " 0   department_id  21 non-null     int64 \n",
            " 1   department     21 non-null     object\n",
            "dtypes: int64(1), object(1)\n",
            "memory usage: 468.0+ bytes\n",
            "-------------------------------------------------------\n",
            "Department DataFrame Description:\n",
            "       department_id\n",
            "count      21.000000\n",
            "mean       11.000000\n",
            "std         6.204837\n",
            "min         1.000000\n",
            "25%         6.000000\n",
            "50%        11.000000\n",
            "75%        16.000000\n",
            "max        21.000000\n",
            "-------------------------------------------------------\n",
            "Null Values in Departments DataFrame:\n",
            "department_id    0\n",
            "department       0\n",
            "dtype: int64\n"
          ]
        }
      ]
    },
    {
      "cell_type": "code",
      "source": [
        "print(\"-------------------------------------------------------\")\n",
        "print(\"Shape of Orders DataFrame:\")\n",
        "print(csv_orders.shape)\n",
        "\n",
        "print(\"-------------------------------------------------------\")\n",
        "print(\"First 5 Rows of Orders DataFrame:\")\n",
        "print(csv_orders.head())\n",
        "\n",
        "print(\"-------------------------------------------------------\")\n",
        "print(\"Orders DataFrame Info:\")\n",
        "csv_orders.info()\n",
        "\n",
        "print(\"-------------------------------------------------------\")\n",
        "print(\"Orders DataFrame Description:\")\n",
        "print(csv_orders.describe())\n",
        "\n",
        "print(\"-------------------------------------------------------\")\n",
        "print(\"Null Values in Orders DataFrame:\")\n",
        "print(csv_orders.isnull().sum())"
      ],
      "metadata": {
        "colab": {
          "base_uri": "https://localhost:8080/"
        },
        "id": "tjQ6PoZzo0gz",
        "outputId": "4e507dda-7826-4f07-ff65-6d94ac2540c9"
      },
      "execution_count": 13,
      "outputs": [
        {
          "output_type": "stream",
          "name": "stdout",
          "text": [
            "-------------------------------------------------------\n",
            "Shape of Orders DataFrame:\n",
            "(3421083, 7)\n",
            "-------------------------------------------------------\n",
            "First 5 Rows of Orders DataFrame:\n",
            "   order_id  user_id eval_set  order_number  order_dow  order_hour_of_day  \\\n",
            "0   2539329        1    prior             1          2                  8   \n",
            "1   2398795        1    prior             2          3                  7   \n",
            "2    473747        1    prior             3          3                 12   \n",
            "3   2254736        1    prior             4          4                  7   \n",
            "4    431534        1    prior             5          4                 15   \n",
            "\n",
            "   days_since_prior_order  \n",
            "0                     NaN  \n",
            "1                    15.0  \n",
            "2                    21.0  \n",
            "3                    29.0  \n",
            "4                    28.0  \n",
            "-------------------------------------------------------\n",
            "Orders DataFrame Info:\n",
            "<class 'pandas.core.frame.DataFrame'>\n",
            "RangeIndex: 3421083 entries, 0 to 3421082\n",
            "Data columns (total 7 columns):\n",
            " #   Column                  Dtype  \n",
            "---  ------                  -----  \n",
            " 0   order_id                int64  \n",
            " 1   user_id                 int64  \n",
            " 2   eval_set                object \n",
            " 3   order_number            int64  \n",
            " 4   order_dow               int64  \n",
            " 5   order_hour_of_day       int64  \n",
            " 6   days_since_prior_order  float64\n",
            "dtypes: float64(1), int64(5), object(1)\n",
            "memory usage: 182.7+ MB\n",
            "-------------------------------------------------------\n",
            "Orders DataFrame Description:\n",
            "           order_id       user_id  order_number     order_dow  \\\n",
            "count  3.421083e+06  3.421083e+06  3.421083e+06  3.421083e+06   \n",
            "mean   1.710542e+06  1.029782e+05  1.715486e+01  2.776219e+00   \n",
            "std    9.875817e+05  5.953372e+04  1.773316e+01  2.046829e+00   \n",
            "min    1.000000e+00  1.000000e+00  1.000000e+00  0.000000e+00   \n",
            "25%    8.552715e+05  5.139400e+04  5.000000e+00  1.000000e+00   \n",
            "50%    1.710542e+06  1.026890e+05  1.100000e+01  3.000000e+00   \n",
            "75%    2.565812e+06  1.543850e+05  2.300000e+01  5.000000e+00   \n",
            "max    3.421083e+06  2.062090e+05  1.000000e+02  6.000000e+00   \n",
            "\n",
            "       order_hour_of_day  days_since_prior_order  \n",
            "count       3.421083e+06            3.214874e+06  \n",
            "mean        1.345202e+01            1.111484e+01  \n",
            "std         4.226088e+00            9.206737e+00  \n",
            "min         0.000000e+00            0.000000e+00  \n",
            "25%         1.000000e+01            4.000000e+00  \n",
            "50%         1.300000e+01            7.000000e+00  \n",
            "75%         1.600000e+01            1.500000e+01  \n",
            "max         2.300000e+01            3.000000e+01  \n",
            "-------------------------------------------------------\n",
            "Null Values in Orders DataFrame:\n",
            "order_id                       0\n",
            "user_id                        0\n",
            "eval_set                       0\n",
            "order_number                   0\n",
            "order_dow                      0\n",
            "order_hour_of_day              0\n",
            "days_since_prior_order    206209\n",
            "dtype: int64\n"
          ]
        }
      ]
    },
    {
      "cell_type": "code",
      "source": [
        "print(\"-------------------------------------------------------\")\n",
        "print(\"Shape of Products DataFrame:\")\n",
        "print(csv_products.shape)\n",
        "\n",
        "print(\"-------------------------------------------------------\")\n",
        "print(\"First 5 Rows of Products DataFrame:\")\n",
        "print(csv_products.head())\n",
        "\n",
        "print(\"-------------------------------------------------------\")\n",
        "print(\"Products DataFrame Info:\")\n",
        "csv_products.info()\n",
        "\n",
        "print(\"-------------------------------------------------------\")\n",
        "print(\"Products DataFrame Description:\")\n",
        "print(csv_products.describe())\n",
        "\n",
        "print(\"-------------------------------------------------------\")\n",
        "print(\"Null Values in Products DataFrame:\")\n",
        "print(csv_products.isnull().sum())"
      ],
      "metadata": {
        "colab": {
          "base_uri": "https://localhost:8080/"
        },
        "id": "GQ_z3dTyGyiy",
        "outputId": "68d777eb-5a05-4a52-f44b-b752baa3df30"
      },
      "execution_count": 16,
      "outputs": [
        {
          "output_type": "stream",
          "name": "stdout",
          "text": [
            "-------------------------------------------------------\n",
            "Shape of Products DataFrame:\n",
            "(49688, 4)\n",
            "-------------------------------------------------------\n",
            "First 5 Rows of Products DataFrame:\n",
            "   product_id                                       product_name  aisle_id  \\\n",
            "0           1                         Chocolate Sandwich Cookies        61   \n",
            "1           2                                   All-Seasons Salt       104   \n",
            "2           3               Robust Golden Unsweetened Oolong Tea        94   \n",
            "3           4  Smart Ones Classic Favorites Mini Rigatoni Wit...        38   \n",
            "4           5                          Green Chile Anytime Sauce         5   \n",
            "\n",
            "   department_id  \n",
            "0             19  \n",
            "1             13  \n",
            "2              7  \n",
            "3              1  \n",
            "4             13  \n",
            "-------------------------------------------------------\n",
            "Products DataFrame Info:\n",
            "<class 'pandas.core.frame.DataFrame'>\n",
            "RangeIndex: 49688 entries, 0 to 49687\n",
            "Data columns (total 4 columns):\n",
            " #   Column         Non-Null Count  Dtype \n",
            "---  ------         --------------  ----- \n",
            " 0   product_id     49688 non-null  int64 \n",
            " 1   product_name   49688 non-null  object\n",
            " 2   aisle_id       49688 non-null  int64 \n",
            " 3   department_id  49688 non-null  int64 \n",
            "dtypes: int64(3), object(1)\n",
            "memory usage: 1.5+ MB\n",
            "-------------------------------------------------------\n",
            "Products DataFrame Description:\n",
            "         product_id      aisle_id  department_id\n",
            "count  49688.000000  49688.000000   49688.000000\n",
            "mean   24844.500000     67.769582      11.728687\n",
            "std    14343.834425     38.316162       5.850410\n",
            "min        1.000000      1.000000       1.000000\n",
            "25%    12422.750000     35.000000       7.000000\n",
            "50%    24844.500000     69.000000      13.000000\n",
            "75%    37266.250000    100.000000      17.000000\n",
            "max    49688.000000    134.000000      21.000000\n",
            "-------------------------------------------------------\n",
            "Null Values in Products DataFrame:\n",
            "product_id       0\n",
            "product_name     0\n",
            "aisle_id         0\n",
            "department_id    0\n",
            "dtype: int64\n"
          ]
        }
      ]
    },
    {
      "cell_type": "code",
      "source": [
        "print(\"-------------------------------------------------------\")\n",
        "print(\"Shape of Data DataFrame:\")\n",
        "print(csv_data.shape)\n",
        "\n",
        "print(\"-------------------------------------------------------\")\n",
        "print(\"First 5 Rows of Data DataFrame:\")\n",
        "print(csv_data.head())\n",
        "\n",
        "print(\"-------------------------------------------------------\")\n",
        "print(\"Data DataFrame Info:\")\n",
        "csv_data.info()\n",
        "\n",
        "print(\"-------------------------------------------------------\")\n",
        "print(\"Data DataFrame Description:\")\n",
        "print(csv_data.describe())\n",
        "\n",
        "print(\"-------------------------------------------------------\")\n",
        "print(\"Null Values in Data DataFrame:\")\n",
        "print(csv_data.isnull().sum())"
      ],
      "metadata": {
        "colab": {
          "base_uri": "https://localhost:8080/"
        },
        "id": "Yu5Br72HpTD6",
        "outputId": "ce29db6c-f831-4108-9985-f17ef7a66573"
      },
      "execution_count": 17,
      "outputs": [
        {
          "output_type": "stream",
          "name": "stdout",
          "text": [
            "-------------------------------------------------------\n",
            "Shape of Data DataFrame:\n",
            "(33819106, 4)\n",
            "-------------------------------------------------------\n",
            "First 5 Rows of Data DataFrame:\n",
            "   order_id  product_id  add_to_cart_order  reordered\n",
            "0         1       10246                  3          0\n",
            "1         1       11109                  2          1\n",
            "2         1       13176                  6          0\n",
            "3         1       22035                  8          1\n",
            "4         1       43633                  5          1\n",
            "-------------------------------------------------------\n",
            "Data DataFrame Info:\n",
            "<class 'pandas.core.frame.DataFrame'>\n",
            "RangeIndex: 33819106 entries, 0 to 33819105\n",
            "Data columns (total 4 columns):\n",
            " #   Column             Dtype\n",
            "---  ------             -----\n",
            " 0   order_id           int64\n",
            " 1   product_id         int64\n",
            " 2   add_to_cart_order  int64\n",
            " 3   reordered          int64\n",
            "dtypes: int64(4)\n",
            "memory usage: 1.0 GB\n",
            "-------------------------------------------------------\n",
            "Data DataFrame Description:\n",
            "           order_id    product_id  add_to_cart_order     reordered\n",
            "count  3.381911e+07  3.381911e+07       3.381911e+07  3.381911e+07\n",
            "mean   1.710566e+06  2.557551e+04       8.367738e+00  5.900617e-01\n",
            "std    9.874008e+05  1.409770e+04       7.139540e+00  4.918220e-01\n",
            "min    1.000000e+00  1.000000e+00       1.000000e+00  0.000000e+00\n",
            "25%    8.554130e+05  1.351900e+04       3.000000e+00  0.000000e+00\n",
            "50%    1.710660e+06  2.525600e+04       6.000000e+00  1.000000e+00\n",
            "75%    2.565587e+06  3.793500e+04       1.100000e+01  1.000000e+00\n",
            "max    3.421083e+06  4.968800e+04       1.450000e+02  1.000000e+00\n",
            "-------------------------------------------------------\n",
            "Null Values in Data DataFrame:\n",
            "order_id             0\n",
            "product_id           0\n",
            "add_to_cart_order    0\n",
            "reordered            0\n",
            "dtype: int64\n"
          ]
        }
      ]
    }
  ]
}